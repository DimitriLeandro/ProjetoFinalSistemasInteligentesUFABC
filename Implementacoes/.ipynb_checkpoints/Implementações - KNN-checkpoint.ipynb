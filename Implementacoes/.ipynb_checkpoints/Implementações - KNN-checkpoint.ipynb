{
 "cells": [
  {
   "cell_type": "markdown",
   "metadata": {},
   "source": [
    "# Implementação KNN SK-Learn"
   ]
  },
  {
   "cell_type": "markdown",
   "metadata": {},
   "source": [
    "## Configurações Iniciais"
   ]
  },
  {
   "cell_type": "markdown",
   "metadata": {},
   "source": [
    "Comando para exibir os gráficos gerados no próprio *notebook*."
   ]
  },
  {
   "cell_type": "code",
   "execution_count": 1,
   "metadata": {},
   "outputs": [],
   "source": [
    "%matplotlib inline"
   ]
  },
  {
   "cell_type": "markdown",
   "metadata": {},
   "source": [
    "Pacotes que serão usados para importação do *dataset*, tratamento de vetores, seleção de *features*, método de classificação e métricas a serem utilizadas."
   ]
  },
  {
   "cell_type": "code",
   "execution_count": 2,
   "metadata": {},
   "outputs": [],
   "source": [
    "from sklearn import datasets\n",
    "import numpy as np\n",
    "import random\n",
    "import matplotlib.pyplot as plt\n",
    "from sklearn.model_selection import train_test_split\n",
    "from sklearn.neighbors import KNeighborsClassifier\n",
    "from sklearn.metrics import classification_report, accuracy_score, confusion_matrix, f1_score, precision_score, recall_score"
   ]
  },
  {
   "cell_type": "code",
   "execution_count": 3,
   "metadata": {},
   "outputs": [],
   "source": [
    "random.seed(0)"
   ]
  },
  {
   "cell_type": "markdown",
   "metadata": {},
   "source": [
    "## Pré-Processamento dos dados"
   ]
  },
  {
   "cell_type": "markdown",
   "metadata": {},
   "source": [
    "Importação do dataset *Olivetti Faces*."
   ]
  },
  {
   "cell_type": "code",
   "execution_count": 4,
   "metadata": {},
   "outputs": [],
   "source": [
    "dataset = datasets.fetch_olivetti_faces()"
   ]
  },
  {
   "cell_type": "markdown",
   "metadata": {},
   "source": [
    "Atribuição das imagens do *dataset* a variável X e dos elementos *target* a variável y."
   ]
  },
  {
   "cell_type": "code",
   "execution_count": 5,
   "metadata": {},
   "outputs": [],
   "source": [
    "X = dataset.images\n",
    "y = dataset.target"
   ]
  },
  {
   "cell_type": "markdown",
   "metadata": {},
   "source": [
    "Imprimindo o formato de ambas variáveis geradas>"
   ]
  },
  {
   "cell_type": "code",
   "execution_count": 6,
   "metadata": {},
   "outputs": [
    {
     "data": {
      "text/plain": [
       "(400, 64, 64)"
      ]
     },
     "execution_count": 6,
     "metadata": {},
     "output_type": "execute_result"
    }
   ],
   "source": [
    "X.shape"
   ]
  },
  {
   "cell_type": "code",
   "execution_count": 7,
   "metadata": {},
   "outputs": [
    {
     "data": {
      "text/plain": [
       "(400,)"
      ]
     },
     "execution_count": 7,
     "metadata": {},
     "output_type": "execute_result"
    }
   ],
   "source": [
    "y.shape"
   ]
  },
  {
   "cell_type": "markdown",
   "metadata": {},
   "source": [
    "Imprimindo uma imagem do *dataset* como exemplo. "
   ]
  },
  {
   "cell_type": "code",
   "execution_count": 8,
   "metadata": {},
   "outputs": [
    {
     "data": {
      "image/png": "[encoded data removed]",
      "text/plain": [
       "<Figure size 432x288 with 1 Axes>"
      ]
     },
     "metadata": {
      "needs_background": "light"
     },
     "output_type": "display_data"
    }
   ],
   "source": [
    "img = plt.imshow(X[399])"
   ]
  },
  {
   "cell_type": "markdown",
   "metadata": {},
   "source": [
    "Anteriormente percebemos que nossas 400 imagens estão em um formato 64x64 e esse formato não é ideal para classificação, precisamos que nossas imagens tenham um formato unidimensional, para tal faremos um *reshape* no vetor X."
   ]
  },
  {
   "cell_type": "code",
   "execution_count": 9,
   "metadata": {},
   "outputs": [],
   "source": [
    "X_reshaped = np.reshape(X, (X.shape[0], X.shape[1] * X.shape[2]))"
   ]
  },
  {
   "cell_type": "markdown",
   "metadata": {},
   "source": [
    "Observe que agora o nosso novo vetor **X_reshaped** possui imagens em uma única dimensão."
   ]
  },
  {
   "cell_type": "code",
   "execution_count": 10,
   "metadata": {},
   "outputs": [
    {
     "data": {
      "text/plain": [
       "(400, 4096)"
      ]
     },
     "execution_count": 10,
     "metadata": {},
     "output_type": "execute_result"
    }
   ],
   "source": [
    "X_reshaped.shape"
   ]
  },
  {
   "cell_type": "markdown",
   "metadata": {},
   "source": [
    "A seguir vamos separar os dados entre dados de treinamento e dados de teste utilizando a função **train_test_split**, utilizaremos 25% dos dados para teste."
   ]
  },
  {
   "cell_type": "code",
   "execution_count": 11,
   "metadata": {},
   "outputs": [],
   "source": [
    "X_train, X_test, y_train, y_test = train_test_split(X_reshaped, y, test_size = 0.25)"
   ]
  },
  {
   "cell_type": "markdown",
   "metadata": {},
   "source": [
    "Abaixo temos o formato dos vetores de teste e treinamento gerados."
   ]
  },
  {
   "cell_type": "code",
   "execution_count": 12,
   "metadata": {},
   "outputs": [
    {
     "data": {
      "text/plain": [
       "(300, 4096)"
      ]
     },
     "execution_count": 12,
     "metadata": {},
     "output_type": "execute_result"
    }
   ],
   "source": [
    "X_train.shape"
   ]
  },
  {
   "cell_type": "code",
   "execution_count": 13,
   "metadata": {},
   "outputs": [
    {
     "data": {
      "text/plain": [
       "(100, 4096)"
      ]
     },
     "execution_count": 13,
     "metadata": {},
     "output_type": "execute_result"
    }
   ],
   "source": [
    "X_test.shape"
   ]
  },
  {
   "cell_type": "code",
   "execution_count": 14,
   "metadata": {},
   "outputs": [
    {
     "data": {
      "text/plain": [
       "(300,)"
      ]
     },
     "execution_count": 14,
     "metadata": {},
     "output_type": "execute_result"
    }
   ],
   "source": [
    "y_train.shape"
   ]
  },
  {
   "cell_type": "code",
   "execution_count": 15,
   "metadata": {},
   "outputs": [
    {
     "data": {
      "text/plain": [
       "(100,)"
      ]
     },
     "execution_count": 15,
     "metadata": {},
     "output_type": "execute_result"
    }
   ],
   "source": [
    "y_test.shape"
   ]
  },
  {
   "cell_type": "markdown",
   "metadata": {},
   "source": [
    "## KNN SK-Learn"
   ]
  },
  {
   "cell_type": "markdown",
   "metadata": {},
   "source": [
    "Inicialmente vamos definir o classificador com nome *knn* que recebe a função \"*KNeighborsClassifier*\" e tem como argumento o número de vizinhos a serem considerados pelo algoritmo KNN, utilizaremos *n_neighbors*=2."
   ]
  },
  {
   "cell_type": "code",
   "execution_count": 16,
   "metadata": {},
   "outputs": [],
   "source": [
    "knn = KNeighborsClassifier(n_neighbors = 3, algorithm='brute', weights='uniform')"
   ]
  },
  {
   "cell_type": "markdown",
   "metadata": {},
   "source": [
    "Em seguida treinaremos o classificador com os dados de treinamento e teste."
   ]
  },
  {
   "cell_type": "code",
   "execution_count": 17,
   "metadata": {},
   "outputs": [],
   "source": [
    "knn = knn.fit(X_train, y_train)"
   ]
  },
  {
   "cell_type": "markdown",
   "metadata": {},
   "source": [
    "E faremos a predição dos dados de teste baseado no treinamento realizado acima."
   ]
  },
  {
   "cell_type": "code",
   "execution_count": 18,
   "metadata": {},
   "outputs": [],
   "source": [
    "y_pred = knn.predict(X_test)"
   ]
  },
  {
   "cell_type": "markdown",
   "metadata": {},
   "source": [
    "Abaixo mostraremos o resultado do vetor resultante esperado e o que foi predito pelo classificador."
   ]
  },
  {
   "cell_type": "code",
   "execution_count": 19,
   "metadata": {},
   "outputs": [
    {
     "data": {
      "text/plain": [
       "array([10, 29,  5,  4, 33, 26, 35,  5, 29, 39,  7, 20,  3, 38,  7, 12,  0,\n",
       "       15, 30, 38,  7, 36, 16,  4, 15, 34, 14,  9, 38,  8, 24, 30, 10, 34,\n",
       "       26,  1, 25, 31, 14, 23, 12,  9, 21, 32,  4, 25, 10, 21,  2,  9, 39,\n",
       "       26, 14, 20,  9, 32, 21,  8,  6,  4,  6,  5,  9,  2, 28,  9, 14,  3,\n",
       "       14, 16, 33, 28,  2, 13, 26, 12, 24, 17,  3,  1, 35, 33,  7, 16, 31,\n",
       "        6, 27, 10, 37, 38, 23, 18, 12,  5, 18, 16, 22, 27, 22, 36])"
      ]
     },
     "execution_count": 19,
     "metadata": {},
     "output_type": "execute_result"
    }
   ],
   "source": [
    "y_test"
   ]
  },
  {
   "cell_type": "code",
   "execution_count": 20,
   "metadata": {},
   "outputs": [
    {
     "data": {
      "text/plain": [
       "array([10, 29,  4, 39, 33, 26, 35, 22, 29, 39,  7, 20,  3, 38,  7, 12, 39,\n",
       "        0, 30, 38,  7, 36,  4,  4, 15, 34, 14, 34, 38,  8, 24, 30, 10, 34,\n",
       "       26,  1, 25, 31, 14, 23,  2,  9, 21, 32,  4, 25, 10, 21,  2, 22, 39,\n",
       "       26, 14, 20,  9, 32, 21,  8,  6,  4,  6,  5,  7,  2, 28,  2, 14,  3,\n",
       "       14,  4, 33, 28,  8, 13, 26, 12, 24, 17,  3,  1, 35, 33,  7,  2, 31,\n",
       "        6, 27, 10, 37, 38, 23, 18, 12,  5, 18,  4, 22, 27, 22, 36])"
      ]
     },
     "execution_count": 20,
     "metadata": {},
     "output_type": "execute_result"
    }
   ],
   "source": [
    "y_pred"
   ]
  },
  {
   "cell_type": "markdown",
   "metadata": {},
   "source": [
    "E em seguida utilizaremos algumas métricas para termos noção do desempenho do classificador utilizado nesse problema como por exemplo a acurácia, o *F1 Score*, a precisão e o *recall*."
   ]
  },
  {
   "cell_type": "code",
   "execution_count": 31,
   "metadata": {},
   "outputs": [
    {
     "name": "stdout",
     "output_type": "stream",
     "text": [
      "Acurácia:    0.85\n",
      "F1 Score:    0.8567934988987621\n",
      "Precisão:    0.8674185463659148\n",
      "Recall:      0.881578947368421\n"
     ]
    }
   ],
   "source": [
    "print(\"Acurácia:   \", accuracy_score(y_test, y_pred))\n",
    "print(\"F1 Score:   \" , f1_score(y_test, y_pred, average='macro'))\n",
    "print(\"Precisão:   \", precision_score(y_test, y_pred, average='macro'))\n",
    "print(\"Recall:     \", recall_score(y_test, y_pred,  average='macro'))"
   ]
  },
  {
   "cell_type": "markdown",
   "metadata": {},
   "source": [
    "Ou também o *classification_report*."
   ]
  },
  {
   "cell_type": "code",
   "execution_count": 32,
   "metadata": {},
   "outputs": [
    {
     "name": "stdout",
     "output_type": "stream",
     "text": [
      "              precision    recall  f1-score   support\n",
      "\n",
      "           0       0.00      0.00      0.00         1\n",
      "           1       1.00      1.00      1.00         2\n",
      "           2       0.40      0.67      0.50         3\n",
      "           3       1.00      1.00      1.00         3\n",
      "           4       0.43      0.75      0.55         4\n",
      "           5       1.00      0.50      0.67         4\n",
      "           6       1.00      1.00      1.00         3\n",
      "           7       0.80      1.00      0.89         4\n",
      "           8       0.67      1.00      0.80         2\n",
      "           9       1.00      0.33      0.50         6\n",
      "          10       1.00      1.00      1.00         4\n",
      "          12       1.00      0.75      0.86         4\n",
      "          13       1.00      1.00      1.00         1\n",
      "          14       1.00      1.00      1.00         5\n",
      "          15       1.00      0.50      0.67         2\n",
      "          16       0.00      0.00      0.00         4\n",
      "          17       1.00      1.00      1.00         1\n",
      "          18       1.00      1.00      1.00         2\n",
      "          20       1.00      1.00      1.00         2\n",
      "          21       1.00      1.00      1.00         3\n",
      "          22       0.50      1.00      0.67         2\n",
      "          23       1.00      1.00      1.00         2\n",
      "          24       1.00      1.00      1.00         2\n",
      "          25       1.00      1.00      1.00         2\n",
      "          26       1.00      1.00      1.00         4\n",
      "          27       1.00      1.00      1.00         2\n",
      "          28       1.00      1.00      1.00         2\n",
      "          29       1.00      1.00      1.00         2\n",
      "          30       1.00      1.00      1.00         2\n",
      "          31       1.00      1.00      1.00         2\n",
      "          32       1.00      1.00      1.00         2\n",
      "          33       1.00      1.00      1.00         3\n",
      "          34       0.67      1.00      0.80         2\n",
      "          35       1.00      1.00      1.00         2\n",
      "          36       1.00      1.00      1.00         2\n",
      "          37       1.00      1.00      1.00         1\n",
      "          38       1.00      1.00      1.00         4\n",
      "          39       0.50      1.00      0.67         2\n",
      "\n",
      "   micro avg       0.85      0.85      0.85       100\n",
      "   macro avg       0.87      0.88      0.86       100\n",
      "weighted avg       0.87      0.85      0.84       100\n",
      "\n"
     ]
    }
   ],
   "source": [
    "print(classification_report(y_test, y_pred))"
   ]
  },
  {
   "cell_type": "markdown",
   "metadata": {},
   "source": [
    "Em seguida temos a matriz de confusão:"
   ]
  },
  {
   "cell_type": "code",
   "execution_count": 23,
   "metadata": {
    "scrolled": true
   },
   "outputs": [
    {
     "data": {
      "text/plain": [
       "array([[0, 0, 0, ..., 0, 0, 1],\n",
       "       [0, 2, 0, ..., 0, 0, 0],\n",
       "       [0, 0, 2, ..., 0, 0, 0],\n",
       "       ...,\n",
       "       [0, 0, 0, ..., 1, 0, 0],\n",
       "       [0, 0, 0, ..., 0, 4, 0],\n",
       "       [0, 0, 0, ..., 0, 0, 2]], dtype=int64)"
      ]
     },
     "execution_count": 23,
     "metadata": {},
     "output_type": "execute_result"
    }
   ],
   "source": [
    "confusion_matrix(y_test, y_pred)"
   ]
  },
  {
   "cell_type": "markdown",
   "metadata": {},
   "source": [
    "# OBS: NÃO SABIA QUAL MÉTRICA IRIAMOS USAR NO NOSSO ALGORITMO QUE FOI IMPLEMENTADO ENTAO COLOQUEI TODAS QUE ACHEI VÁLIDA, SE QUISEREM EXCLUIR OU ADICIONAR OUTRA FIQUEM A VONTADE. O PARAMETRO 'AVERAGE' DE ALGUMAS MÉTRICAS ESTÁ 'MACRO' POIS É O PARAMETRO QUE ACHEI MAIS VÁLIDO, MAS TAMBEM PODE SER TROCADO"
   ]
  },
  {
   "cell_type": "markdown",
   "metadata": {},
   "source": [
    "# Implementação realizada pelo grupo"
   ]
  },
  {
   "cell_type": "markdown",
   "metadata": {},
   "source": [
    "- Função de ordenação:"
   ]
  },
  {
   "cell_type": "code",
   "execution_count": 24,
   "metadata": {},
   "outputs": [],
   "source": [
    "def OrdenaDistancias(distancias, coluna=1):\n",
    "    \"\"\"Esta função retorna as distâncias ordenadas.\"\"\"\n",
    "    return sorted(distancias, key=lambda coluna: coluna[1])"
   ]
  },
  {
   "cell_type": "markdown",
   "metadata": {},
   "source": [
    "- Cálculo das distâncias:"
   ]
  },
  {
   "cell_type": "code",
   "execution_count": 25,
   "metadata": {},
   "outputs": [],
   "source": [
    "def CalculoDistancia(vetor1, vetor2, p=2):\n",
    "    \"\"\" Essa função implementa o cálculo da distância entre dois vetores utilizando a distância de Minkowski.\"\"\"\n",
    "    \n",
    "    vector1 = np.array(vetor1)\n",
    "    vector2 = np.array(vetor2)\n",
    "\n",
    "    diferenca = vector2 - vector1\n",
    "    \n",
    "    dif_abs = np.abs(diferenca)\n",
    "    \n",
    "    distancia = (np.sum(diferenca**p))**(1/p)\n",
    "    \n",
    "    return distancia"
   ]
  },
  {
   "cell_type": "markdown",
   "metadata": {},
   "source": [
    "- Implementação KNN:"
   ]
  },
  {
   "cell_type": "code",
   "execution_count": 26,
   "metadata": {},
   "outputs": [],
   "source": [
    "def KNN_Ajuste_Predicao(X,Y,X_teste,k=5,p=2):\n",
    "    \n",
    "    predicao = []\n",
    "\n",
    "    for i,ponto_teste in enumerate(X_teste):\n",
    "    \n",
    "        lista_distancias = []\n",
    "    \n",
    "        for j,ponto_treino in enumerate(X):\n",
    "\n",
    "            distancia = CalculoDistancia(ponto_treino,ponto_teste,p=p)\n",
    "        \n",
    "            lista_distancias.append([j, distancia, Y[j]])\n",
    "            \n",
    "        vizinhos = OrdenaDistancias(lista_distancias)[:k]\n",
    "        \n",
    "        contagem = np.unique(np.array(vizinhos)[:,2], return_counts=True)\n",
    "        \n",
    "        moda = np.max(np.array(contagem),axis=1) \n",
    "        \n",
    "        predicao.append(moda[0])\n",
    "    \n",
    "    return np.array(predicao)"
   ]
  },
  {
   "cell_type": "markdown",
   "metadata": {},
   "source": [
    "- Aplicação:"
   ]
  },
  {
   "cell_type": "code",
   "execution_count": 27,
   "metadata": {},
   "outputs": [],
   "source": [
    "Pred_Implementa = KNN_Ajuste_Predicao(X_train,y_train,X_test,k=3,p=2)"
   ]
  },
  {
   "cell_type": "markdown",
   "metadata": {},
   "source": [
    "E em seguida utilizaremos algumas métricas para termos noção do desempenho do classificador utilizado nesse problema como por exemplo a acurácia, o *F1 Score*, a precisão e o *recall*."
   ]
  },
  {
   "cell_type": "markdown",
   "metadata": {},
   "source": [
    "- Implementada"
   ]
  },
  {
   "cell_type": "code",
   "execution_count": 33,
   "metadata": {},
   "outputs": [
    {
     "name": "stdout",
     "output_type": "stream",
     "text": [
      "Acurácia:    0.68\n",
      "F1 Score:    0.6460964960964961\n",
      "Precisão:    0.6766992266992268\n",
      "Recall:      0.7064102564102565\n"
     ]
    }
   ],
   "source": [
    "print(\"Acurácia:   \", accuracy_score(y_test, Pred_Implementa))\n",
    "print(\"F1 Score:   \" , f1_score(y_test, Pred_Implementa, average='macro'))\n",
    "print(\"Precisão:   \", precision_score(y_test, Pred_Implementa, average='macro'))\n",
    "print(\"Recall:     \", recall_score(y_test, Pred_Implementa,  average='macro'))"
   ]
  },
  {
   "cell_type": "markdown",
   "metadata": {},
   "source": [
    "Ou também o *classification_report*."
   ]
  },
  {
   "cell_type": "code",
   "execution_count": 34,
   "metadata": {},
   "outputs": [
    {
     "name": "stdout",
     "output_type": "stream",
     "text": [
      "              precision    recall  f1-score   support\n",
      "\n",
      "         0.0       0.00      0.00      0.00         1\n",
      "         1.0       1.00      1.00      1.00         2\n",
      "         2.0       0.00      0.00      0.00         3\n",
      "         3.0       0.00      0.00      0.00         3\n",
      "         4.0       0.67      0.50      0.57         4\n",
      "         5.0       1.00      0.50      0.67         4\n",
      "         6.0       1.00      0.33      0.50         3\n",
      "         7.0       1.00      0.50      0.67         4\n",
      "         8.0       0.50      0.50      0.50         2\n",
      "         9.0       0.50      0.17      0.25         6\n",
      "        10.0       1.00      0.75      0.86         4\n",
      "        11.0       0.00      0.00      0.00         0\n",
      "        12.0       1.00      0.50      0.67         4\n",
      "        13.0       1.00      1.00      1.00         1\n",
      "        14.0       1.00      0.80      0.89         5\n",
      "        15.0       1.00      0.50      0.67         2\n",
      "        16.0       0.00      0.00      0.00         4\n",
      "        17.0       0.50      1.00      0.67         1\n",
      "        18.0       0.50      1.00      0.67         2\n",
      "        20.0       0.29      1.00      0.44         2\n",
      "        21.0       1.00      1.00      1.00         3\n",
      "        22.0       0.22      1.00      0.36         2\n",
      "        23.0       0.67      1.00      0.80         2\n",
      "        24.0       0.67      1.00      0.80         2\n",
      "        25.0       0.67      1.00      0.80         2\n",
      "        26.0       1.00      1.00      1.00         4\n",
      "        27.0       1.00      1.00      1.00         2\n",
      "        28.0       1.00      0.50      0.67         2\n",
      "        29.0       1.00      1.00      1.00         2\n",
      "        30.0       1.00      1.00      1.00         2\n",
      "        31.0       1.00      1.00      1.00         2\n",
      "        32.0       1.00      1.00      1.00         2\n",
      "        33.0       1.00      1.00      1.00         3\n",
      "        34.0       0.50      1.00      0.67         2\n",
      "        35.0       0.67      1.00      0.80         2\n",
      "        36.0       1.00      1.00      1.00         2\n",
      "        37.0       0.00      0.00      0.00         1\n",
      "        38.0       0.80      1.00      0.89         4\n",
      "        39.0       0.25      1.00      0.40         2\n",
      "\n",
      "   micro avg       0.68      0.68      0.68       100\n",
      "   macro avg       0.68      0.71      0.65       100\n",
      "weighted avg       0.72      0.68      0.66       100\n",
      "\n"
     ]
    }
   ],
   "source": [
    "print(classification_report(y_test, Pred_Implementa))"
   ]
  },
  {
   "cell_type": "markdown",
   "metadata": {},
   "source": [
    "Em seguida temos a matriz de confusão:"
   ]
  },
  {
   "cell_type": "code",
   "execution_count": 30,
   "metadata": {
    "scrolled": true
   },
   "outputs": [
    {
     "data": {
      "text/plain": [
       "array([[0, 0, 0, ..., 0, 0, 1],\n",
       "       [0, 2, 0, ..., 0, 0, 0],\n",
       "       [0, 0, 0, ..., 0, 0, 0],\n",
       "       ...,\n",
       "       [0, 0, 0, ..., 0, 0, 1],\n",
       "       [0, 0, 0, ..., 0, 4, 0],\n",
       "       [0, 0, 0, ..., 0, 0, 2]], dtype=int64)"
      ]
     },
     "execution_count": 30,
     "metadata": {},
     "output_type": "execute_result"
    }
   ],
   "source": [
    "confusion_matrix(list(y_test), list(Pred_Implementa))"
   ]
  }
 ],
 "metadata": {
  "kernelspec": {
   "display_name": "Python 3",
   "language": "python",
   "name": "python3"
  },
  "language_info": {
   "codemirror_mode": {
    "name": "ipython",
    "version": 3
   },
   "file_extension": ".py",
   "mimetype": "text/x-python",
   "name": "python",
   "nbconvert_exporter": "python",
   "pygments_lexer": "ipython3",
   "version": "3.6.5"
  }
 },
 "nbformat": 4,
 "nbformat_minor": 2
}
