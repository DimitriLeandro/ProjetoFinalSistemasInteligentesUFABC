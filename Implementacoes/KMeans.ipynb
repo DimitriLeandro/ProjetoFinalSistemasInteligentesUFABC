{
 "cells": [
  {
   "cell_type": "code",
   "execution_count": 1,
   "metadata": {},
   "outputs": [],
   "source": [
    "import numpy\n",
    "import matplotlib.pyplot as plt\n",
    "from random import randint\n",
    "from math import sqrt, pow\n",
    "%matplotlib inline"
   ]
  },
  {
   "cell_type": "code",
   "execution_count": 2,
   "metadata": {},
   "outputs": [],
   "source": [
    "def gerarCentroidesAleatorios(data, qtd):\n",
    "    #A primeira coisa a fazer é descobrir quantos dados há e de quantas dimensões eles são\n",
    "    qtdDados = data.shape[0]\n",
    "    qtdDimensoes = data.shape[1]\n",
    "    \n",
    "    #Preciso de k centroides. Esses centroides serao pontos aleatórios\n",
    "    indexCentroides = []\n",
    "    centroides = []\n",
    "        \n",
    "    #O for gera k centroides\n",
    "    for k in range(0, qtd):           \n",
    "        indexRepetido = 1\n",
    "        #Garantindo que nenhum centroide será repetido\n",
    "        while indexRepetido == 1:\n",
    "            novoIndexCentroide = randint(0, (qtdDados - 1))\n",
    "            indexRepetido = 0\n",
    "            for ponto in indexCentroides:\n",
    "                if ponto == novoIndexCentroide:\n",
    "                    indexRepetido = 1\n",
    "                    continue    \n",
    "        #Adicionando um novo centroide\n",
    "        indexCentroides.append(novoIndexCentroide)\n",
    "        centroides.append(data[novoIndexCentroide])                       \n",
    "        \n",
    "    centroides = numpy.array(centroides)        \n",
    "    return centroides"
   ]
  },
  {
   "cell_type": "code",
   "execution_count": 3,
   "metadata": {},
   "outputs": [],
   "source": [
    "def definirCluster(ponto, centroides):\n",
    "    qtdDimensoes = ponto.shape[0]\n",
    "    qtdCentroides = centroides.shape[0]\n",
    "    indexCentroideMaisProximo = -1\n",
    "    menorDistancia = -1\n",
    "    \n",
    "    for indexCentroideAtual in range(0, qtdCentroides):\n",
    "        somaQuadrados = 0\n",
    "        for dimensao in range(0, qtdDimensoes):\n",
    "            somaQuadrados += pow(ponto[dimensao] - centroides[indexCentroideAtual][dimensao], 2)\n",
    "        distanciaAtual = sqrt(somaQuadrados)\n",
    "        if indexCentroideAtual == 0:\n",
    "            indexCentroideMaisProximo = 0\n",
    "            menorDistancia = distanciaAtual\n",
    "        else:\n",
    "            if distanciaAtual < menorDistancia:\n",
    "                indexCentroideMaisProximo = indexCentroideAtual\n",
    "                menorDistancia = distanciaAtual     \n",
    "    \n",
    "    return indexCentroideMaisProximo"
   ]
  },
  {
   "cell_type": "code",
   "execution_count": 4,
   "metadata": {},
   "outputs": [],
   "source": [
    "def gerarY(data, centroides):\n",
    "    y = []    \n",
    "        \n",
    "    #medindo a distância euclidiana de cada ponto em relação a cada centroide\n",
    "    for ponto in data:\n",
    "        y.append(definirCluster(ponto, centroides))\n",
    "        \n",
    "    y = numpy.array(y)\n",
    "    \n",
    "    return y"
   ]
  },
  {
   "cell_type": "code",
   "execution_count": 5,
   "metadata": {},
   "outputs": [],
   "source": [
    "def definirCentroidePorPontos(pontos):\n",
    "    \n",
    "    qtdDimensoes = pontos.shape[1]\n",
    "    \n",
    "    centroCadaDimensao = []\n",
    "    \n",
    "    for dimensao in range(0, qtdDimensoes):\n",
    "        centroCadaDimensao.append(numpy.mean(pontos[:,dimensao]))\n",
    "        \n",
    "    return numpy.array(centroCadaDimensao)"
   ]
  },
  {
   "cell_type": "code",
   "execution_count": 6,
   "metadata": {},
   "outputs": [],
   "source": [
    "def recalcularCentroides(x, y, qtdClusters):\n",
    "\n",
    "    centroidesNovos = []\n",
    "    \n",
    "    for clusterAtual in range(0, qtdClusters):\n",
    "        pontosDoClusterAtual = []\n",
    "        for index, clusterY in enumerate(y):\n",
    "            if clusterY == clusterAtual:\n",
    "                pontosDoClusterAtual.append(x[index])\n",
    "        pontosDoClusterAtual = numpy.array(pontosDoClusterAtual)\n",
    "        \n",
    "        if pontosDoClusterAtual.size == 0:\n",
    "            return numpy.array([-1])\n",
    "        \n",
    "        centroidesNovos.append(definirCentroidePorPontos(pontosDoClusterAtual))\n",
    "            \n",
    "    centroidesNovos = numpy.array(centroidesNovos)\n",
    "    return centroidesNovos    "
   ]
  },
  {
   "cell_type": "code",
   "execution_count": 71,
   "metadata": {},
   "outputs": [],
   "source": [
    "def simpleKMeans(data, kClusters):\n",
    "    #gerando os centroides iniciais aleatórios\n",
    "    centroides = gerarCentroidesAleatorios(data, kClusters)\n",
    "    \n",
    "    #gerando o \"target\"\n",
    "    y = gerarY(data, centroides)\n",
    "        \n",
    "    #recalculando os centroides até que sejam iguais\n",
    "    centroidesNovos = numpy.array([-1])\n",
    "    while not(numpy.array_equal(centroidesNovos, centroides)):\n",
    "        #printar(data, y)\n",
    "        \n",
    "        while numpy.array_equal(centroidesNovos, numpy.array([-1])):\n",
    "            centroidesNovos = recalcularCentroides(data, y, kClusters)\n",
    "        \n",
    "        y = gerarY(data, centroidesNovos)\n",
    "        centroides = centroidesNovos\n",
    "        \n",
    "    \n",
    "    #printar(data, y)\n",
    "    \n",
    "    return centroidesNovos, y"
   ]
  },
  {
   "cell_type": "code",
   "execution_count": 8,
   "metadata": {},
   "outputs": [],
   "source": [
    "def KMeans(data, kClusters, nRepeticoes):\n",
    "    \n",
    "    somaVariancias = []\n",
    "    ys = []\n",
    "    \n",
    "    for i in range(0, nRepeticoes):\n",
    "        #para cada repetição vou receber o y do simpleKMeans e calcular a soma das variancias de cada cluster\n",
    "        centroides, y = simpleKMeans(data, kClusters)\n",
    "        somaVariancias.append(calcularSomaVariancias(data, y, centroides))\n",
    "        ys.append(y)\n",
    "        \n",
    "        printar(data, y)\n",
    "        \n",
    "    indexMenorSomaVariancias = 0\n",
    "    \n",
    "    for index, somaVarianciasAtual in enumerate(somaVariancias):\n",
    "        if somaVarianciasAtual < somaVariancias[indexMenorSomaVariancias]:\n",
    "            indexMenorSomaVariancias = index\n",
    "\n",
    "    ys = numpy.array(ys)\n",
    "    \n",
    "    print(somaVariancias)\n",
    "    print(indexMenorSomaVariancias)\n",
    "    \n",
    "    return ys[indexMenorSomaVariancias]    "
   ]
  },
  {
   "cell_type": "code",
   "execution_count": 37,
   "metadata": {},
   "outputs": [],
   "source": [
    "def calcularSomaVariancias(x, y, centroides):\n",
    "    \n",
    "    qtdClusters = centroides.shape[0]\n",
    "    qtdDimensoes = x.shape[1]\n",
    "    \n",
    "    dadosEDistancias = [] #[clusterPertencente, distanciaAoCentroide]\n",
    "    varianciaCadaCluster = []\n",
    "    \n",
    "    #Vou passar ponto por ponto pra criar o vetor dadosEDistancias\n",
    "    for index, pontoAtual in enumerate(x):\n",
    "        clusterPertencente = y[index]\n",
    "        centroideAtual = centroides[clusterPertencente]\n",
    "        \n",
    "        #calculando a distancia entre o ponto atual e seu centroide\n",
    "        somaQuadrados = 0\n",
    "        for dimensao in range(0, qtdDimensoes):\n",
    "            somaQuadrados += pow(pontoAtual[dimensao] - centroideAtual[dimensao], 2)\n",
    "        distanciaAoCentroide = sqrt(somaQuadrados)\n",
    "        \n",
    "        #colocando esse ponto e essa distância no vetor dadosEDistancias\n",
    "        dadosEDistancias.append([clusterPertencente, distanciaAoCentroide])\n",
    "    \n",
    "    #Agora vou preencher o vetor varianciaCadaCluster\n",
    "    for clusterAtual in range(0, qtdClusters):\n",
    "        \n",
    "        distanciasDoClusterAtual = []\n",
    "        \n",
    "        #preenchendo o vetor distanciasDoClusterAtual\n",
    "        for dadoAtual in dadosEDistancias:\n",
    "            if dadoAtual[0] == clusterAtual:\n",
    "                distanciasDoClusterAtual.append(dadoAtual[1])\n",
    "                \n",
    "        #agora que ja tenho todas as distancias do cluster atual, calculo a variancia desse cluster\n",
    "        #e coloco no vetor varianciaCadaCluster\n",
    "        distanciasDoClusterAtual = numpy.array(distanciasDoClusterAtual)\n",
    "        varianciaCadaCluster.append(numpy.var(distanciasDoClusterAtual))\n",
    "\n",
    "    print(varianciaCadaCluster)\n",
    "    #retorno a soma das variancias\n",
    "    varianciaCadaCluster = numpy.array(varianciaCadaCluster)\n",
    "    \n",
    "    return numpy.sum(varianciaCadaCluster)"
   ]
  },
  {
   "cell_type": "code",
   "execution_count": 10,
   "metadata": {},
   "outputs": [],
   "source": [
    "def printar(x, y):\n",
    "    plt.figure()\n",
    "    plt.scatter(x=x[:, 0], y=x[:, 1], c=y, cmap='viridis')\n",
    "    plt.xlabel('Feature 1')\n",
    "    plt.ylabel('Feature 2')\n",
    "    plt.title('Training Set Clusters')"
   ]
  },
  {
   "cell_type": "code",
   "execution_count": 59,
   "metadata": {},
   "outputs": [],
   "source": [
    "def printarComCentroides(x, y, centroides):\n",
    "    plt.figure()\n",
    "    plt.scatter(x=x[:, 0], y=x[:, 1], c=y, cmap='viridis')\n",
    "    plt.xlabel('Feature 1')\n",
    "    plt.ylabel('Feature 2')\n",
    "    plt.title('Training Set Clusters')\n",
    "    \n",
    "    plt.scatter(x=centroides[:,0], y=centroides[:,1], c='r', marker='X')\n"
   ]
  },
  {
   "cell_type": "code",
   "execution_count": 15,
   "metadata": {},
   "outputs": [
    {
     "data": {
      "text/plain": [
       "Text(0.5, 1.0, 'Training Set Clusters')"
      ]
     },
     "execution_count": 15,
     "metadata": {},
     "output_type": "execute_result"
    },
    {
     "data": {
      "image/png": "[encoded data removed]",
      "text/plain": [
       "<Figure size 432x288 with 1 Axes>"
      ]
     },
     "metadata": {
      "needs_background": "light"
     },
     "output_type": "display_data"
    }
   ],
   "source": [
    "x = []\n",
    "\n",
    "#aleatorios\n",
    "for i in range(0, 50):\n",
    "    x.append([randint(0, 100), randint(0, 100)])\n",
    "    \n",
    "for i in range(0, 50):\n",
    "    x.append([randint(400, 500), randint(400, 500)])\n",
    "    \n",
    "for i in range(0, 50):\n",
    "    x.append([randint(800, 900), randint(800, 900)])\n",
    "    \n",
    "for i in range(0, 50):\n",
    "    x.append([randint(0, 100), randint(800, 900)])\n",
    "    \n",
    "for i in range(0, 50):\n",
    "    x.append([randint(800, 900), randint(0, 100)])\n",
    "    \n",
    "# for i in range(0, 1000):\n",
    "#     x.append([randint(0, 1000), randint(0, 1000)])\n",
    "\n",
    "x = numpy.array(x)\n",
    "\n",
    "plt.figure()\n",
    "plt.scatter(x=x[:, 0], y=x[:, 1], cmap='viridis')\n",
    "plt.xlabel('Feature 1')\n",
    "plt.ylabel('Feature 2')\n",
    "plt.title('Training Set Clusters')"
   ]
  },
  {
   "cell_type": "code",
   "execution_count": 74,
   "metadata": {},
   "outputs": [
    {
     "name": "stdout",
     "output_type": "stream",
     "text": [
      "[731.9041318696873, 224.91480734604684, 826.2417482047342, 949.8356655892794, 348.6104190920123]\n",
      "Soma das Variâncias: 3081.50677210176\n"
     ]
    },
    {
     "data": {
      "image/png": "[encoded data removed]",
      "text/plain": [
       "<Figure size 432x288 with 1 Axes>"
      ]
     },
     "metadata": {
      "needs_background": "light"
     },
     "output_type": "display_data"
    }
   ],
   "source": [
    "centroides, y = simpleKMeans(x, 5)\n",
    "soma = calcularSomaVariancias(x, y, centroides)\n",
    "print(\"Soma das Variâncias:\", soma)\n",
    "printarComCentroides(x, y, centroides)"
   ]
  }
 ],
 "metadata": {
  "kernelspec": {
   "display_name": "Python 3",
   "language": "python",
   "name": "python3"
  },
  "language_info": {
   "codemirror_mode": {
    "name": "ipython",
    "version": 3
   },
   "file_extension": ".py",
   "mimetype": "text/x-python",
   "name": "python",
   "nbconvert_exporter": "python",
   "pygments_lexer": "ipython3",
   "version": "3.5.2"
  }
 },
 "nbformat": 4,
 "nbformat_minor": 2
}
