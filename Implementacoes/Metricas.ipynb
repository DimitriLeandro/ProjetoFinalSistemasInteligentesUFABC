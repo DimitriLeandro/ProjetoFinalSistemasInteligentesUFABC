{
 "cells": [
  {
   "cell_type": "markdown",
   "metadata": {},
   "source": [
    "# Implementações de Métricas Utilizadas na Clusterização"
   ]
  },
  {
   "cell_type": "code",
   "execution_count": 3,
   "metadata": {},
   "outputs": [],
   "source": [
    "from sklearn.datasets import load_wine\n",
    "from sklearn.decomposition import PCA, FastICA\n",
    "from sklearn.manifold import Isomap, TSNE\n",
    "import matplotlib.pyplot as plt\n",
    "import numpy as np\n",
    "from sklearn.model_selection import KFold, train_test_split as tts\n",
    "from sklearn import metrics\n",
    "from scipy.spatial.distance import cdist\n",
    "from sklearn.cluster import KMeans\n",
    "from sklearn.cluster import AffinityPropagation\n",
    "from sklearn.utils import shuffle\n",
    "from scipy.spatial import distance\n",
    "from sklearn.model_selection import LeaveOneOut\n",
    "from math import pow\n",
    "from random import randint\n",
    "from scipy import stats\n",
    "from IPython.display import HTML, display"
   ]
  },
  {
   "cell_type": "markdown",
   "metadata": {},
   "source": [
    "### WB Index"
   ]
  },
  {
   "cell_type": "markdown",
   "metadata": {},
   "source": [
    "De acordo com o artigo citado, essa métrica pode ser utilizada tanto para averiguar o número ótimo de clusters em um dataset quanto para avaliar o agrupamento feito por um algorotmo. \n",
    "\n",
    "O melhor valor para essa métrica é o menor possível.\n",
    "\n",
    "Referência: http://cs.joensuu.fi/sipu/pub/qinpei-thesis.pdf, página 22."
   ]
  },
  {
   "cell_type": "markdown",
   "metadata": {},
   "source": [
    "#### Implementação"
   ]
  },
  {
   "cell_type": "code",
   "execution_count": 2,
   "metadata": {},
   "outputs": [],
   "source": [
    "def WBIndex(x, y, centroides):\n",
    "    ssw = sumSquaresWithin(x, y, centroides)\n",
    "    ssb = sumSquaresBetween(x, y, centroides)\n",
    "    return  (len(x) * (ssw/ssb))\n",
    "\n",
    "def sumSquaresWithin(x, y, centroides):\n",
    "    \n",
    "    distanciasAoQuadrado = []\n",
    "    \n",
    "    #Primeiro passando de cluster em cluster\n",
    "    for clusterAtual in range(0, len(centroides)):\n",
    "        \n",
    "        #Pra cada cluster eu pego todos os pontos dele\n",
    "        for index, clusterPontoAtual in enumerate(y):\n",
    "            if clusterAtual == clusterPontoAtual:\n",
    "                #Se chegou aqui então eu estou em um ponto do cluster atual\n",
    "                d = x[index] - centroides[clusterAtual]\n",
    "                distanciasAoQuadrado.append(d * d)\n",
    "    \n",
    "    #Aqui já tenho o vetor distanciasAoQuadrado completo com todos os \n",
    "    #pontos em relação aos seus centroides, é só retornar a soma de tudo isso\n",
    "    distanciasAoQuadrado = np.array(distanciasAoQuadrado)    \n",
    "    \n",
    "    return np.sum(distanciasAoQuadrado)\n",
    "\n",
    "def sumSquaresBetween(x, y, centroides):\n",
    "    \n",
    "    #Primeiro, tenho que achar o X médio de TODOS os pontos \n",
    "    #(embaixo da equação 3.9 (pág 24) tem uma representação visual desse x médio)\n",
    "    xMedio = []\n",
    "    for dimensaoAtual in range(0, x.shape[1]):\n",
    "        xMedio.append(np.mean(x[:, dimensaoAtual]))\n",
    "    xMedio = np.array(xMedio)\n",
    "    \n",
    "    #Beleza, agr já tenho o xMedio, é só aplicar a equação 3.8 e somar tudo como mostra a equação 3.9\n",
    "    bs = []\n",
    "    \n",
    "    for clusterAtual in range(0, len(centroides)):\n",
    "        #Preciso saber a quantidade de pontos que existem no cluster atual\n",
    "        qtdPontosClusterAtual = 0\n",
    "        for clusterPontoAtual in y:\n",
    "            if clusterPontoAtual == clusterAtual:\n",
    "                qtdPontosClusterAtual += 1\n",
    "        \n",
    "        #agora aplico a equação 3.8...\n",
    "        d = centroides[clusterAtual] - xMedio\n",
    "        bs.append(qtdPontosClusterAtual * (d * d))\n",
    "        \n",
    "    #...e somo todos os B's como mostra a equação 3.9\n",
    "    bs = np.array(bs)\n",
    "    \n",
    "    return np.sum(bs)"
   ]
  },
  {
   "cell_type": "markdown",
   "metadata": {},
   "source": [
    "#### Exemplo de uso"
   ]
  },
  {
   "cell_type": "code",
   "execution_count": 6,
   "metadata": {},
   "outputs": [
    {
     "name": "stdout",
     "output_type": "stream",
     "text": [
      "WB Index com 2 clusters: 27.72261645271297\n"
     ]
    }
   ],
   "source": [
    "# Carregando um dataset\n",
    "dataset = load_wine()\n",
    "x = dataset.data\n",
    "y = dataset.target\n",
    "\n",
    "# Criando um obj KMeans e fazendo um agrupamento de TODOS os dados com três clusters, como no dataset original\n",
    "objKMeans = KMeans(n_clusters=3)\n",
    "objKMeans.fit(x)\n",
    "\n",
    "# Verificando o WB Index da clusterização. A função criada deve receber x, y e os centroides de cada cluster.\n",
    "indexWB = WBIndex(x, objKMeans.labels_, objKMeans.cluster_centers_)\n",
    "\n",
    "# Printando\n",
    "print(\"WB Index com 2 clusters:\", indexWB)"
   ]
  },
  {
   "cell_type": "code",
   "execution_count": null,
   "metadata": {},
   "outputs": [],
   "source": []
  },
  {
   "cell_type": "code",
   "execution_count": null,
   "metadata": {},
   "outputs": [],
   "source": []
  },
  {
   "cell_type": "code",
   "execution_count": null,
   "metadata": {},
   "outputs": [],
   "source": []
  },
  {
   "cell_type": "code",
   "execution_count": null,
   "metadata": {},
   "outputs": [],
   "source": []
  }
 ],
 "metadata": {
  "kernelspec": {
   "display_name": "Python 3",
   "language": "python",
   "name": "python3"
  },
  "language_info": {
   "codemirror_mode": {
    "name": "ipython",
    "version": 3
   },
   "file_extension": ".py",
   "mimetype": "text/x-python",
   "name": "python",
   "nbconvert_exporter": "python",
   "pygments_lexer": "ipython3",
   "version": "3.6.5"
  }
 },
 "nbformat": 4,
 "nbformat_minor": 2
}
