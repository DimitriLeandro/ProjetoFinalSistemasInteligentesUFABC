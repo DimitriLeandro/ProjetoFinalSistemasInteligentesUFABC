{
 "cells": [
  {
   "cell_type": "markdown",
   "metadata": {},
   "source": [
    "# Perceptron"
   ]
  },
  {
   "cell_type": "code",
   "execution_count": 1,
   "metadata": {},
   "outputs": [],
   "source": [
    "from random import random, randint\n",
    "from sklearn.datasets import load_wine\n",
    "from sklearn.decomposition import PCA\n",
    "from sklearn.metrics import accuracy_score\n",
    "from sklearn.model_selection import KFold\n",
    "import matplotlib.pyplot as plt\n",
    "import numpy as np"
   ]
  },
  {
   "cell_type": "markdown",
   "metadata": {},
   "source": [
    "### Funções predizerDado e calcularAcuracia"
   ]
  },
  {
   "cell_type": "code",
   "execution_count": 2,
   "metadata": {},
   "outputs": [],
   "source": [
    "def predizerDado(dado, vetorPesos):\n",
    "    \n",
    "    # Tenho que ir somando cada dimensão do dado de entrada com o respectivo peso\n",
    "    soma = 0.0\n",
    "    \n",
    "    # Passando por cada dimensão e somando as multiplicações\n",
    "    for valorDadoDimensao, pesoDimensao in zip(dado, vetorPesos):\n",
    "        soma += valorDadoDimensao * pesoDimensao\n",
    "    \n",
    "    # Retorna classe 1 se a soma der >= 0 e classe 0 caso contrário\n",
    "    if soma >= 0:\n",
    "        return 1\n",
    "    else:\n",
    "        return 0"
   ]
  },
  {
   "cell_type": "code",
   "execution_count": 3,
   "metadata": {},
   "outputs": [],
   "source": [
    "# Se em algumas iterações do perceptron a acurácia chegar a 100%, então posso parar o algoritmo\n",
    "def calcularAcuracia(x, y, vetorPesos):\n",
    "    \n",
    "    qtdAcertos = 0\n",
    "    \n",
    "    # Passando por cada dado para predizer sua classe e comparar com a real\n",
    "    for dadoAtual, classeReal in zip(x, y):\n",
    "        \n",
    "        # Fazendo a predição\n",
    "        classePredita = predizerDado(dadoAtual, vetorPesos)\n",
    "        \n",
    "        # Se acertei, então somo 1 em qtdAcertos\n",
    "        if classePredita == classeReal:\n",
    "            qtdAcertos += 1\n",
    "            \n",
    "    # Retorno a porcentagem de acertos\n",
    "    return qtdAcertos / float(len(x))"
   ]
  },
  {
   "cell_type": "markdown",
   "metadata": {},
   "source": [
    "#### Testando as funções"
   ]
  },
  {
   "cell_type": "code",
   "execution_count": 4,
   "metadata": {},
   "outputs": [],
   "source": [
    "# Criando os dados, as classificaçao verdadeira e os pesos de cada dimensão\n",
    "x = [\n",
    "        [1.0, 2.4, 3.8, 4.4],\n",
    "        [0.8, -2.8, 0, -0.4],\n",
    "        [1.8, 0.8, 3.4, 4.1],\n",
    "        [-1.8, 0, -3.1, 0],\n",
    "        [1.4, -2.1, 0, 0.4]\n",
    "    ]\n",
    "\n",
    "y = [1, 0, 1, 0, 0]\n",
    "\n",
    "vetorPesos = [0, 0.3, 0.1, 1]"
   ]
  },
  {
   "cell_type": "code",
   "execution_count": 5,
   "metadata": {},
   "outputs": [
    {
     "name": "stdout",
     "output_type": "stream",
     "text": [
      "[1, 0, 1, 0, 0]\n"
     ]
    }
   ],
   "source": [
    "# Verificando quais serão as predições para cada dado\n",
    "predicoes = []\n",
    "\n",
    "for dado in x:\n",
    "    predicoes.append(predizerDado(dado, vetorPesos))\n",
    "    \n",
    "print(predicoes)"
   ]
  },
  {
   "cell_type": "code",
   "execution_count": 6,
   "metadata": {},
   "outputs": [
    {
     "name": "stdout",
     "output_type": "stream",
     "text": [
      "1.0\n"
     ]
    }
   ],
   "source": [
    "# Printando a acurácia\n",
    "print(calcularAcuracia(x, y, vetorPesos))"
   ]
  },
  {
   "cell_type": "markdown",
   "metadata": {},
   "source": [
    "### Função treinarPesos"
   ]
  },
  {
   "cell_type": "code",
   "execution_count": 7,
   "metadata": {},
   "outputs": [],
   "source": [
    "def treinarPesos(x, y, vetorPesos, qtdMaxIteracoes = 10000, taxaAprendizagem = 0.5):\n",
    "    \n",
    "    # Irei alterar o valor dos pesos no máximo qtdMaxIteracoes vezes\n",
    "    for i in range(qtdMaxIteracoes):\n",
    "        \n",
    "        # Primeiro calculo a acurácia atual para ver se já posso parar o algoritmo\n",
    "        acuraciaAtual = calcularAcuracia(x, y, vetorPesos)\n",
    "        \n",
    "        # Se já cheguei em 100%, então posso parar as iterações\n",
    "        if acuraciaAtual == 1:\n",
    "            break\n",
    "            \n",
    "        # Senão, vou passar por cada dado para fazer a predição, calcular o erro e arrumar os pesos\n",
    "        for dadoAtual, classeReal in zip(x, y):\n",
    "            \n",
    "            # Fazendo a predição e calculando o erro\n",
    "            classePredita = predizerDado(dadoAtual, vetorPesos)\n",
    "            erro = classeReal - classePredita\n",
    "            \n",
    "            # Se houve erro, então recalculo todos os pesos\n",
    "            if erro != 0:\n",
    "                for index, pesoAtual in enumerate(vetorPesos):\n",
    "                    vetorPesos[index] = pesoAtual + taxaAprendizagem * erro * dadoAtual[index]\n",
    "    \n",
    "    return vetorPesos, i"
   ]
  },
  {
   "cell_type": "markdown",
   "metadata": {},
   "source": [
    "### Testando a função"
   ]
  },
  {
   "cell_type": "markdown",
   "metadata": {},
   "source": [
    "#### Criando os dados"
   ]
  },
  {
   "cell_type": "markdown",
   "metadata": {},
   "source": [
    "As classes reais não podem ser completamente aleatórias, elas devem seguir algum padrão para que o perceptron encontre a equação."
   ]
  },
  {
   "cell_type": "code",
   "execution_count": 8,
   "metadata": {},
   "outputs": [
    {
     "name": "stdout",
     "output_type": "stream",
     "text": [
      "\n",
      "Classificação correta: [1, 1, 1, 0, 0, 0, 1, 0, 0, 1, 1, 1, 1, 1, 1, 1, 0, 0, 0, 0, 1, 1, 0, 1, 1, 0, 1, 1, 1, 1, 0, 1, 1, 1, 0, 0, 0, 0, 0, 1, 1, 1, 1, 0, 0, 1, 1, 0, 1, 1, 0, 1, 1, 1, 1, 0, 0, 1, 1, 0, 1, 1, 1, 1, 1, 0, 0, 0, 1, 0, 0, 1, 0, 0, 1, 1, 0, 0, 1, 1, 1, 1, 1, 0, 1, 1, 1, 0, 1, 0, 1, 0, 0, 1, 1, 0, 1, 1, 1, 1]\n"
     ]
    }
   ],
   "source": [
    "qtdDados = 100\n",
    "qtdFeatures = 5\n",
    "\n",
    "# Criando os dados de entrada com qtdFeatures features + o bias na frente e atribuindo uma classe\n",
    "x = []\n",
    "y = []\n",
    "\n",
    "# Criando um vetorPesos para criar as classes reais (tem que fazer sentido)\n",
    "vetorPesos = []\n",
    "\n",
    "# +1 pq tem o bias\n",
    "for i in range(qtdFeatures + 1):\n",
    "    vetorPesos.append(randint(-1000, 1000) / 1000)\n",
    "\n",
    "# Dados aleatórios, porém, a classe real tem que fazer sentido\n",
    "for i in range(qtdDados):\n",
    "    dadoAtual = []\n",
    "    dadoAtual.append(1) # Bias\n",
    "    \n",
    "    for j in range(qtdFeatures):\n",
    "        dadoAtual.append(randint(-10, 10) / 10)\n",
    "    \n",
    "    classeReal = predizerDado(dadoAtual, vetorPesos)\n",
    "    \n",
    "    x.append(dadoAtual)\n",
    "    y.append(classeReal)\n",
    "\n",
    "    # Printando\n",
    "    #print(dadoAtual)\n",
    "    \n",
    "print(\"\\nClassificação correta:\", y)"
   ]
  },
  {
   "cell_type": "markdown",
   "metadata": {},
   "source": [
    "#### Testando a evolução dos pesos"
   ]
  },
  {
   "cell_type": "code",
   "execution_count": 9,
   "metadata": {},
   "outputs": [
    {
     "name": "stdout",
     "output_type": "stream",
     "text": [
      "Pesos utilizados para gerar as classes reais:\n",
      " [0.046, 0.425, 0.981, -0.712, -0.505, -0.055]\n",
      "\n",
      "Pesos iniciais randômicos:\n",
      " [0.361, -0.217, -0.431, 0.777, 0.075, -0.244]\n",
      "\n",
      "Qtd iterações realizadas:\n",
      " 22\n",
      "\n",
      "Pesos após o treinamento:\n",
      " [0.361, 2.133000000000003, 5.118999999999998, -3.5230000000000055, -2.6750000000000003, -0.043999999999999734]\n",
      "\n",
      "Acurácia:\n",
      " 1.0\n"
     ]
    }
   ],
   "source": [
    "print(\"Pesos utilizados para gerar as classes reais:\\n\", vetorPesos)\n",
    "\n",
    "# Começando com pesos aleatórios entre -1 e 1 e fazendo o treinamento\n",
    "vetorPesos = []\n",
    "\n",
    "# +1 pq tem o bias na frente\n",
    "for i in range(qtdFeatures + 1):\n",
    "    vetorPesos.append(randint(-1000, 1000) / 1000)\n",
    "    \n",
    "print(\"\\nPesos iniciais randômicos:\\n\", vetorPesos)\n",
    "\n",
    "# Treinando\n",
    "vetorPesos, i = treinarPesos(x, y, vetorPesos)\n",
    "print(\"\\nQtd iterações realizadas:\\n\", i + 1)\n",
    "print(\"\\nPesos após o treinamento:\\n\", vetorPesos)\n",
    "\n",
    "# Verificando a acurácia\n",
    "print(\"\\nAcurácia:\\n\", calcularAcuracia(x, y, vetorPesos))"
   ]
  },
  {
   "cell_type": "markdown",
   "metadata": {},
   "source": [
    "## Organizando o código em uma classe"
   ]
  },
  {
   "cell_type": "code",
   "execution_count": 10,
   "metadata": {},
   "outputs": [],
   "source": [
    "class Perceptron:        \n",
    "    \n",
    "    def predizerDado(self, dado):        \n",
    "        # Tenho que ir somando cada dimensão do dado de entrada com o respectivo peso\n",
    "        soma = 0.0\n",
    "\n",
    "        # Passando por cada dimensão e somando as multiplicações\n",
    "        for valorDadoDimensao, pesoDimensao in zip(dado, self.vetorPesos):\n",
    "            soma += valorDadoDimensao * pesoDimensao\n",
    "\n",
    "        # Retorna classe 1 se a soma der >= 0 e classe 0 caso contrário\n",
    "        if soma >= 0:\n",
    "            return 1\n",
    "        else:\n",
    "            return 0\n",
    "        \n",
    "    def calcularAcuracia(self, x, y):\n",
    "        \n",
    "        qtdAcertos = 0\n",
    "\n",
    "        # Passando por cada dado para predizer sua classe e comparar com a real\n",
    "        for dadoAtual, classeReal in zip(x, y):\n",
    "\n",
    "            # Fazendo a predição\n",
    "            classePredita = self.predizerDado(dadoAtual)\n",
    "\n",
    "            # Se acertei, então somo 1 em qtdAcertos\n",
    "            if classePredita == classeReal:\n",
    "                qtdAcertos += 1\n",
    "\n",
    "        # Retorno a porcentagem de acertos\n",
    "        return qtdAcertos / float(len(x))\n",
    "\n",
    "        \n",
    "    def treinarPesos(self, x, y, qtdMaxIteracoes = 10000, taxaAprendizagem = 0.5):\n",
    "        \n",
    "        # Irei alterar o valor dos pesos no máximo qtdMaxIteracoes vezes\n",
    "        for i in range(qtdMaxIteracoes):\n",
    "\n",
    "            # Primeiro calculo a acurácia atual para ver se já posso parar o algoritmo\n",
    "            acuraciaAtual = self.calcularAcuracia(x, y)\n",
    "\n",
    "            # Se já cheguei em 100%, então posso parar as iterações\n",
    "            if acuraciaAtual == 1:\n",
    "                break\n",
    "\n",
    "            # Senão, vou passar por cada dado para fazer a predição, calcular o erro e arrumar os pesos\n",
    "            for dadoAtual, classeReal in zip(x, y):\n",
    "\n",
    "                # Fazendo a predição e calculando o erro\n",
    "                classePredita = self.predizerDado(dadoAtual)\n",
    "                erro = classeReal - classePredita\n",
    "\n",
    "                # Se houve erro, então recalculo todos os pesos\n",
    "                if erro != 0:\n",
    "                    for index, pesoAtual in enumerate(self.vetorPesos):\n",
    "                        self.vetorPesos[index] = pesoAtual + taxaAprendizagem * erro * dadoAtual[index]\n",
    "    \n",
    "    \n",
    "    def treinarPerceptron(self, xTrain, yTrain, qtdMaxIteracoes = 10000, taxaAprendizagem = 0.5):\n",
    "        # Transformando tudo pra numpy (assim funciona com datasets reais)\n",
    "        xTrain = np.array(xTrain)\n",
    "        yTrain = np.array(yTrain)\n",
    "        \n",
    "        # A primeira coisa a fazer é colocar o bias no final de cada dado\n",
    "        for dadoAtual in xTrain:\n",
    "            np.append(dadoAtual, 1)\n",
    "        \n",
    "        # Começando com pesos aleatórios entre -1 e 1 e fazendo o treinamento\n",
    "        self.vetorPesos = []\n",
    "\n",
    "        # Pesos aleatórios para cada dimensão\n",
    "        for i in range(len(xTrain[0])):\n",
    "            self.vetorPesos.append(randint(-1000, 1000) / 1000)\n",
    "\n",
    "        # Treinando\n",
    "        self.treinarPesos(xTrain, yTrain, qtdMaxIteracoes, taxaAprendizagem)\n",
    "        \n",
    "    \n",
    "    def predizerDados(self, xTest):\n",
    "        # Transformando tudo pra numpy (assim funciona com datasets reais)\n",
    "        xTest = np.array(xTest)\n",
    "        \n",
    "        # Essa função faz a predição de n dados usando a função predizerDado (atenção no plural e singular)\n",
    "        yPred = []\n",
    "        \n",
    "        for dadoAtual in xTest:\n",
    "            # Tenho que colocar o bias no final\n",
    "            np.append(dadoAtual, 1)\n",
    "            yPred.append(self.predizerDado(dadoAtual))\n",
    "            \n",
    "        return yPred"
   ]
  },
  {
   "cell_type": "markdown",
   "metadata": {},
   "source": [
    "### Testando a classe"
   ]
  },
  {
   "cell_type": "code",
   "execution_count": 11,
   "metadata": {},
   "outputs": [
    {
     "name": "stdout",
     "output_type": "stream",
     "text": [
      "[1, 1, 1, 0, 0, 0, 1, 0, 0, 1, 1, 1, 1, 1, 1, 1, 0, 0, 0, 0, 1, 1, 0, 1, 1, 0, 1, 1, 1, 1, 0, 1, 1, 1, 0, 0, 0, 0, 0, 1, 1, 1, 1, 0, 0, 1, 1, 0, 1, 1, 0, 1, 1, 1, 1, 0, 0, 1, 1, 0, 1, 1, 1, 1, 1, 0, 0, 0, 1, 0, 0, 1, 0, 0, 1, 1, 0, 0, 1, 1, 1, 1, 1, 0, 1, 1, 1, 0, 1, 0, 1, 0, 0, 1, 1, 0, 1, 1, 1, 1]\n",
      "[1, 1, 1, 0, 0, 0, 1, 0, 0, 1, 1, 1, 1, 1, 1, 1, 0, 0, 0, 0, 1, 1, 0, 1, 1, 0, 1, 1, 1, 1, 0, 1, 1, 1, 0, 0, 0, 0, 0, 1, 1, 1, 1, 0, 0, 1, 1, 0, 1, 1, 0, 1, 1, 1, 1, 0, 0, 1, 1, 0, 1, 1, 1, 1, 1, 0, 0, 0, 1, 0, 0, 1, 0, 0, 1, 1, 0, 0, 1, 1, 1, 1, 1, 0, 1, 1, 1, 0, 1, 0, 1, 0, 0, 1, 1, 0, 1, 1, 1, 1]\n"
     ]
    }
   ],
   "source": [
    "objPerceptron = Perceptron()\n",
    "\n",
    "objPerceptron.treinarPerceptron(x, y)\n",
    "\n",
    "yPred = objPerceptron.predizerDados(x)\n",
    "\n",
    "print(y)\n",
    "print(yPred)"
   ]
  },
  {
   "cell_type": "markdown",
   "metadata": {},
   "source": [
    "### Testando o algoritmo com um dataset real"
   ]
  },
  {
   "cell_type": "code",
   "execution_count": 12,
   "metadata": {},
   "outputs": [
    {
     "data": {
      "image/png": "[encoded data removed]",
      "text/plain": [
       "<Figure size 432x288 with 1 Axes>"
      ]
     },
     "metadata": {
      "needs_background": "light"
     },
     "output_type": "display_data"
    }
   ],
   "source": [
    "# Carregando o dataset de vinhos \n",
    "dataset = load_wine()\n",
    "\n",
    "x = dataset.data\n",
    "y = dataset.target\n",
    "\n",
    "#Aplicando o PCA para transformar os dados de treze para duas dimensões e visualizar\n",
    "xPCA = PCA(n_components = 2).fit_transform(x)\n",
    "\n",
    "plt.scatter(x=xPCA[:, 0], y=xPCA[:, 1], c=y, cmap='jet_r', s=50, alpha=0.75)\n",
    "plt.title('PCA')\n",
    "plt.grid(True)\n",
    "plt.show()"
   ]
  },
  {
   "cell_type": "code",
   "execution_count": 13,
   "metadata": {},
   "outputs": [
    {
     "data": {
      "image/png": "[encoded data removed]",
      "text/plain": [
       "<Figure size 432x288 with 1 Axes>"
      ]
     },
     "metadata": {
      "needs_background": "light"
     },
     "output_type": "display_data"
    }
   ],
   "source": [
    "# Originalmente, existem 3 classes, irei juntar os dados de uma classe à outra para termos apenas duas classes\n",
    "for index, classeReal in enumerate(y):\n",
    "    if classeReal != 0:\n",
    "        y[index] = 1\n",
    "\n",
    "#Aplicando o PCA para transformar os dados de treze para duas dimensões e visualizar\n",
    "xPCA = PCA(n_components = 2).fit_transform(x)\n",
    "\n",
    "plt.scatter(x=xPCA[:, 0], y=xPCA[:, 1], c=y, cmap='jet_r', s=50, alpha=0.75)\n",
    "plt.title('PCA')\n",
    "plt.grid(True)\n",
    "plt.show()"
   ]
  },
  {
   "cell_type": "code",
   "execution_count": 14,
   "metadata": {},
   "outputs": [
    {
     "name": "stdout",
     "output_type": "stream",
     "text": [
      "Iteração:  1\n",
      "Acurácia:  0.8888888888888888\n",
      "\n",
      "\n",
      "Iteração:  2\n",
      "Acurácia:  0.8333333333333334\n",
      "\n",
      "\n",
      "Iteração:  3\n",
      "Acurácia:  0.9444444444444444\n",
      "\n",
      "\n",
      "Iteração:  4\n",
      "Acurácia:  0.8333333333333334\n",
      "\n",
      "\n",
      "Iteração:  5\n",
      "Acurácia:  0.7777777777777778\n",
      "\n",
      "\n",
      "Iteração:  6\n",
      "Acurácia:  0.8333333333333334\n",
      "\n",
      "\n",
      "Iteração:  7\n",
      "Acurácia:  0.8333333333333334\n",
      "\n",
      "\n",
      "Iteração:  8\n",
      "Acurácia:  0.9444444444444444\n",
      "\n",
      "\n",
      "Iteração:  9\n",
      "Acurácia:  1.0\n",
      "\n",
      "\n",
      "Iteração:  10\n",
      "Acurácia:  0.8823529411764706\n",
      "\n",
      "\n"
     ]
    }
   ],
   "source": [
    "# Aplicando o k-Fold cross validation para testar o perceptron\n",
    "objPerceptron = Perceptron()\n",
    "\n",
    "#Instânciando um objeto KFold com 10 pacotes\n",
    "objKFold = KFold(n_splits = 10, shuffle=True, random_state=None)\n",
    "\n",
    "i = 0\n",
    "\n",
    "#Rodando o perceptron no KFold\n",
    "for trainIndex, testIndex in objKFold.split(x):\n",
    "    i += 1\n",
    "    \n",
    "    xTrain, yTrain, xTest, yTest = x[trainIndex], y[trainIndex], x[testIndex], y[testIndex]\n",
    "    \n",
    "    objPerceptron.treinarPerceptron(xTrain, yTrain)\n",
    "    yPred = objPerceptron.predizerDados(xTest)\n",
    "    \n",
    "    print(\"Iteração: \", i)\n",
    "    print(\"Acurácia: \", accuracy_score(yTest, yPred))\n",
    "    print(\"\\n\")"
   ]
  }
 ],
 "metadata": {
  "kernelspec": {
   "display_name": "Python 3",
   "language": "python",
   "name": "python3"
  },
  "language_info": {
   "codemirror_mode": {
    "name": "ipython",
    "version": 3
   },
   "file_extension": ".py",
   "mimetype": "text/x-python",
   "name": "python",
   "nbconvert_exporter": "python",
   "pygments_lexer": "ipython3",
   "version": "3.5.2"
  }
 },
 "nbformat": 4,
 "nbformat_minor": 2
}
